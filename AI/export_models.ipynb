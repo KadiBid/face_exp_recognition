{
 "cells": [
  {
   "cell_type": "code",
   "execution_count": null,
   "id": "ee7ce273",
   "metadata": {},
   "outputs": [],
   "source": [
    "# Install TensorFlow.js package\n",
    "\n",
    "!pip install tensorflowjs"
   ]
  },
  {
   "cell_type": "code",
   "execution_count": null,
   "id": "9cd98f71",
   "metadata": {},
   "outputs": [],
   "source": [
    "# Define the model to export and where to export.\n",
    "\n",
    "%env INPUT_MODEL_FILE=models/modelConv.h5\n",
    "%env OUTPUT_MODEL_FOLDER=../app/models/modelConv/"
   ]
  },
  {
   "cell_type": "code",
   "execution_count": null,
   "id": "ad5f49f0",
   "metadata": {},
   "outputs": [],
   "source": [
    "# Export the model.\n",
    "\n",
    "!tensorflowjs_converter --input_format keras ${INPUT_MODEL_FILE} ${OUTPUT_MODEL_FOLDER}"
   ]
  }
 ],
 "metadata": {
  "kernelspec": {
   "display_name": "Python 3 (ipykernel)",
   "language": "python",
   "name": "python3"
  },
  "language_info": {
   "codemirror_mode": {
    "name": "ipython",
    "version": 3
   },
   "file_extension": ".py",
   "mimetype": "text/x-python",
   "name": "python",
   "nbconvert_exporter": "python",
   "pygments_lexer": "ipython3",
   "version": "3.10.6"
  }
 },
 "nbformat": 4,
 "nbformat_minor": 5
}
