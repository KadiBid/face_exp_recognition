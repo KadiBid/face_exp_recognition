{
 "cells": [
  {
   "cell_type": "code",
   "execution_count": 1,
   "id": "bd394f20",
   "metadata": {},
   "outputs": [
    {
     "name": "stderr",
     "output_type": "stream",
     "text": [
      "2022-12-22 00:55:25.530165: I tensorflow/core/platform/cpu_feature_guard.cc:193] This TensorFlow binary is optimized with oneAPI Deep Neural Network Library (oneDNN) to use the following CPU instructions in performance-critical operations:  AVX2 FMA\n",
      "To enable them in other operations, rebuild TensorFlow with the appropriate compiler flags.\n"
     ]
    }
   ],
   "source": [
    "import cv2\n",
    "import os\n",
    "import pandas as pd\n",
    "from PIL import Image\n",
    "from IPython.display import display\n",
    "import matplotlib.pyplot as plt\n",
    "%matplotlib inline\n",
    "from sklearn.model_selection import train_test_split\n",
    "from sklearn import preprocessing\n",
    "from sklearn.preprocessing import OneHotEncoder, MinMaxScaler, LabelBinarizer, LabelEncoder\n",
    "import tensorflow as tf\n",
    "import numpy as np"
   ]
  },
  {
   "cell_type": "code",
   "execution_count": 2,
   "id": "d81c23cb",
   "metadata": {},
   "outputs": [],
   "source": [
    "# Crear dataframes de train y test através de las carpetas de fotos\n",
    "\n",
    "dataset = []\n",
    "\n",
    "for label in os.listdir('dataset'):\n",
    "    if not os.path.isdir(f'dataset/{label}'):\n",
    "        continue\n",
    "    for image_filename in os.listdir(f'dataset/{label}'):\n",
    "        image = Image.open(f'dataset/{label}/{image_filename}')\n",
    "        pixels = np.array(image).astype(float)\n",
    "        dataset.append((pixels, label))\n",
    "            \n",
    "# Convertir la llista de dataset en dataframe\n",
    "\n",
    "df = pd.DataFrame(dataset, columns=['pixels', 'label'])\n"
   ]
  },
  {
   "cell_type": "code",
   "execution_count": 3,
   "id": "68055e3b",
   "metadata": {},
   "outputs": [
    {
     "data": {
      "text/html": [
       "<div>\n",
       "<style scoped>\n",
       "    .dataframe tbody tr th:only-of-type {\n",
       "        vertical-align: middle;\n",
       "    }\n",
       "\n",
       "    .dataframe tbody tr th {\n",
       "        vertical-align: top;\n",
       "    }\n",
       "\n",
       "    .dataframe thead th {\n",
       "        text-align: right;\n",
       "    }\n",
       "</style>\n",
       "<table border=\"1\" class=\"dataframe\">\n",
       "  <thead>\n",
       "    <tr style=\"text-align: right;\">\n",
       "      <th></th>\n",
       "      <th>pixels</th>\n",
       "      <th>label</th>\n",
       "    </tr>\n",
       "  </thead>\n",
       "  <tbody>\n",
       "    <tr>\n",
       "      <th>0</th>\n",
       "      <td>[[108.0, 83.0, 63.0, 65.0, 89.0, 111.0, 121.0,...</td>\n",
       "      <td>happy</td>\n",
       "    </tr>\n",
       "    <tr>\n",
       "      <th>1</th>\n",
       "      <td>[[137.0, 142.0, 159.0, 162.0, 158.0, 134.0, 11...</td>\n",
       "      <td>happy</td>\n",
       "    </tr>\n",
       "    <tr>\n",
       "      <th>2</th>\n",
       "      <td>[[111.0, 148.0, 155.0, 167.0, 181.0, 191.0, 19...</td>\n",
       "      <td>happy</td>\n",
       "    </tr>\n",
       "    <tr>\n",
       "      <th>3</th>\n",
       "      <td>[[151.0, 156.0, 121.0, 100.0, 80.0, 116.0, 151...</td>\n",
       "      <td>happy</td>\n",
       "    </tr>\n",
       "    <tr>\n",
       "      <th>4</th>\n",
       "      <td>[[5.0, 4.0, 5.0, 9.0, 10.0, 9.0, 10.0, 12.0, 8...</td>\n",
       "      <td>happy</td>\n",
       "    </tr>\n",
       "  </tbody>\n",
       "</table>\n",
       "</div>"
      ],
      "text/plain": [
       "                                              pixels  label\n",
       "0  [[108.0, 83.0, 63.0, 65.0, 89.0, 111.0, 121.0,...  happy\n",
       "1  [[137.0, 142.0, 159.0, 162.0, 158.0, 134.0, 11...  happy\n",
       "2  [[111.0, 148.0, 155.0, 167.0, 181.0, 191.0, 19...  happy\n",
       "3  [[151.0, 156.0, 121.0, 100.0, 80.0, 116.0, 151...  happy\n",
       "4  [[5.0, 4.0, 5.0, 9.0, 10.0, 9.0, 10.0, 12.0, 8...  happy"
      ]
     },
     "execution_count": 3,
     "metadata": {},
     "output_type": "execute_result"
    }
   ],
   "source": [
    "df.head()"
   ]
  },
  {
   "cell_type": "code",
   "execution_count": 4,
   "id": "23be07c0",
   "metadata": {},
   "outputs": [
    {
     "data": {
      "text/plain": [
       "array(['happy', 'sad', 'fear', 'surprise', 'neutral', 'angry', 'disgust'],\n",
       "      dtype=object)"
      ]
     },
     "execution_count": 4,
     "metadata": {},
     "output_type": "execute_result"
    }
   ],
   "source": [
    "df['label'].unique()"
   ]
  },
  {
   "cell_type": "code",
   "execution_count": 3,
   "id": "2079735d",
   "metadata": {},
   "outputs": [],
   "source": [
    "# Asignar 'X' y 'y', height i width\n",
    "\n",
    "X = df['pixels'].values\n",
    "y = df['label'].values"
   ]
  },
  {
   "cell_type": "code",
   "execution_count": 4,
   "id": "deb73a7d",
   "metadata": {},
   "outputs": [],
   "source": [
    "# Normalize data\n",
    "\n",
    "def pross_img(x):\n",
    "    return x/255\n",
    "X = list(map(pross_img, X))"
   ]
  },
  {
   "cell_type": "code",
   "execution_count": 5,
   "id": "fa12d93b",
   "metadata": {},
   "outputs": [
    {
     "name": "stdout",
     "output_type": "stream",
     "text": [
      "[[0 0 0 ... 0 0 0]\n",
      " [0 0 0 ... 0 0 0]\n",
      " [0 0 0 ... 0 0 0]\n",
      " ...\n",
      " [0 1 0 ... 0 0 0]\n",
      " [0 1 0 ... 0 0 0]\n",
      " [0 1 0 ... 0 0 0]]\n"
     ]
    }
   ],
   "source": [
    "lb = LabelBinarizer()\n",
    "y = lb.fit_transform(df['label'].values)\n",
    "print(y)"
   ]
  },
  {
   "cell_type": "code",
   "execution_count": 6,
   "id": "8f377a2a",
   "metadata": {},
   "outputs": [],
   "source": [
    "# Dividir en train y test \n",
    "\n",
    "X_train, X_test, y_train, y_test = train_test_split(X, y, test_size=0.2, random_state=42)\n"
   ]
  },
  {
   "cell_type": "code",
   "execution_count": 7,
   "id": "e998492e",
   "metadata": {},
   "outputs": [
    {
     "name": "stdout",
     "output_type": "stream",
     "text": [
      "28709\n",
      "28709\n",
      "{48}\n",
      "{7}\n"
     ]
    }
   ],
   "source": [
    "print(len(X_train))\n",
    "print(len(y_train))\n",
    "\n",
    "print(set([len(x) for x in X_train]))\n",
    "print(set([len(x) for x in y_train]))"
   ]
  },
  {
   "cell_type": "code",
   "execution_count": null,
   "id": "3839473d",
   "metadata": {},
   "outputs": [
    {
     "name": "stderr",
     "output_type": "stream",
     "text": [
      "2022-12-22 00:56:48.115624: I tensorflow/core/platform/cpu_feature_guard.cc:193] This TensorFlow binary is optimized with oneAPI Deep Neural Network Library (oneDNN) to use the following CPU instructions in performance-critical operations:  AVX2 FMA\n",
      "To enable them in other operations, rebuild TensorFlow with the appropriate compiler flags.\n"
     ]
    }
   ],
   "source": [
    "# Definir Modelo\n",
    "width=48\n",
    "height=48\n",
    "nlabels=7\n",
    "\n",
    "model = tf.keras.Sequential([\n",
    "    tf.keras.layers.Flatten(input_shape=(28709, width, height)),\n",
    "    tf.keras.layers.Dense(128, activation='relu'),\n",
    "    tf.keras.layers.Dense(nlabels, activation='softmax')\n",
    "])\n",
    "\n",
    "\n",
    "# Compilar los datos\n",
    "model.compile(loss='categorical_crossentropy', optimizer='adam', metrics=['accuracy'])"
   ]
  },
  {
   "cell_type": "code",
   "execution_count": null,
   "id": "82b25a21",
   "metadata": {},
   "outputs": [],
   "source": [
    "# Train\n",
    "model.fit(X_train, y_train, batch_size=32, epochs=10)"
   ]
  },
  {
   "cell_type": "code",
   "execution_count": null,
   "id": "74d6a732",
   "metadata": {},
   "outputs": [],
   "source": []
  }
 ],
 "metadata": {
  "kernelspec": {
   "display_name": "Python 3 (ipykernel)",
   "language": "python",
   "name": "python3"
  },
  "language_info": {
   "codemirror_mode": {
    "name": "ipython",
    "version": 3
   },
   "file_extension": ".py",
   "mimetype": "text/x-python",
   "name": "python",
   "nbconvert_exporter": "python",
   "pygments_lexer": "ipython3",
   "version": "3.10.6"
  }
 },
 "nbformat": 4,
 "nbformat_minor": 5
}
