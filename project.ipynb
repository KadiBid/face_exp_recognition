{
 "cells": [
  {
   "cell_type": "code",
   "execution_count": 20,
   "id": "bd394f20",
   "metadata": {},
   "outputs": [],
   "source": [
    "import cv2\n",
    "import os\n",
    "import pandas as pd\n",
    "from PIL import Image\n",
    "from IPython.display import display\n",
    "import matplotlib.pyplot as plt\n",
    "%matplotlib inline\n",
    "from sklearn.model_selection import train_test_split\n",
    "from sklearn import preprocessing\n",
    "from sklearn.preprocessing import OneHotEncoder, MinMaxScaler, LabelBinarizer, LabelEncoder\n",
    "import tensorflow as tf\n",
    "from tensorflow.keras import Sequential\n",
    "from tensorflow.keras.layers import Conv2D, BatchNormalization, MaxPooling2D, Dropout, Flatten, Dense\n",
    "import numpy as np"
   ]
  },
  {
   "cell_type": "code",
   "execution_count": 2,
   "id": "d81c23cb",
   "metadata": {},
   "outputs": [],
   "source": [
    "# Crear dataframes de train y test através de las carpetas de fotos\n",
    "\n",
    "dataset = []\n",
    "\n",
    "for label in os.listdir('dataset'):\n",
    "    if not os.path.isdir(f'dataset/{label}'):\n",
    "        continue\n",
    "    for image_filename in os.listdir(f'dataset/{label}'):\n",
    "        image = Image.open(f'dataset/{label}/{image_filename}')\n",
    "        pixels = np.array(image).astype(float)\n",
    "        dataset.append((pixels, label))\n",
    "            \n",
    "# Convertir la llista de dataset en dataframe\n",
    "\n",
    "df = pd.DataFrame(dataset, columns=['pixels', 'label'])\n",
    "\n",
    "# hacer otro archivo con esta funcion\n"
   ]
  },
  {
   "cell_type": "code",
   "execution_count": 3,
   "id": "68055e3b",
   "metadata": {},
   "outputs": [
    {
     "data": {
      "text/html": [
       "<div>\n",
       "<style scoped>\n",
       "    .dataframe tbody tr th:only-of-type {\n",
       "        vertical-align: middle;\n",
       "    }\n",
       "\n",
       "    .dataframe tbody tr th {\n",
       "        vertical-align: top;\n",
       "    }\n",
       "\n",
       "    .dataframe thead th {\n",
       "        text-align: right;\n",
       "    }\n",
       "</style>\n",
       "<table border=\"1\" class=\"dataframe\">\n",
       "  <thead>\n",
       "    <tr style=\"text-align: right;\">\n",
       "      <th></th>\n",
       "      <th>pixels</th>\n",
       "      <th>label</th>\n",
       "    </tr>\n",
       "  </thead>\n",
       "  <tbody>\n",
       "    <tr>\n",
       "      <th>0</th>\n",
       "      <td>[[108.0, 83.0, 63.0, 65.0, 89.0, 111.0, 121.0,...</td>\n",
       "      <td>happy</td>\n",
       "    </tr>\n",
       "    <tr>\n",
       "      <th>1</th>\n",
       "      <td>[[137.0, 142.0, 159.0, 162.0, 158.0, 134.0, 11...</td>\n",
       "      <td>happy</td>\n",
       "    </tr>\n",
       "    <tr>\n",
       "      <th>2</th>\n",
       "      <td>[[111.0, 148.0, 155.0, 167.0, 181.0, 191.0, 19...</td>\n",
       "      <td>happy</td>\n",
       "    </tr>\n",
       "    <tr>\n",
       "      <th>3</th>\n",
       "      <td>[[151.0, 156.0, 121.0, 100.0, 80.0, 116.0, 151...</td>\n",
       "      <td>happy</td>\n",
       "    </tr>\n",
       "    <tr>\n",
       "      <th>4</th>\n",
       "      <td>[[5.0, 4.0, 5.0, 9.0, 10.0, 9.0, 10.0, 12.0, 8...</td>\n",
       "      <td>happy</td>\n",
       "    </tr>\n",
       "  </tbody>\n",
       "</table>\n",
       "</div>"
      ],
      "text/plain": [
       "                                              pixels  label\n",
       "0  [[108.0, 83.0, 63.0, 65.0, 89.0, 111.0, 121.0,...  happy\n",
       "1  [[137.0, 142.0, 159.0, 162.0, 158.0, 134.0, 11...  happy\n",
       "2  [[111.0, 148.0, 155.0, 167.0, 181.0, 191.0, 19...  happy\n",
       "3  [[151.0, 156.0, 121.0, 100.0, 80.0, 116.0, 151...  happy\n",
       "4  [[5.0, 4.0, 5.0, 9.0, 10.0, 9.0, 10.0, 12.0, 8...  happy"
      ]
     },
     "execution_count": 3,
     "metadata": {},
     "output_type": "execute_result"
    }
   ],
   "source": [
    "df.head()"
   ]
  },
  {
   "cell_type": "code",
   "execution_count": 4,
   "id": "23be07c0",
   "metadata": {},
   "outputs": [
    {
     "data": {
      "text/plain": [
       "array(['happy', 'sad', 'fear', 'surprise', 'neutral', 'angry', 'disgust'],\n",
       "      dtype=object)"
      ]
     },
     "execution_count": 4,
     "metadata": {},
     "output_type": "execute_result"
    }
   ],
   "source": [
    "df['label'].unique()"
   ]
  },
  {
   "cell_type": "code",
   "execution_count": 10,
   "id": "2079735d",
   "metadata": {},
   "outputs": [],
   "source": [
    "# Asignar 'X' y 'y', height i width\n",
    "\n",
    "X = df['pixels']\n",
    "y = df['label']"
   ]
  },
  {
   "cell_type": "code",
   "execution_count": 11,
   "id": "deb73a7d",
   "metadata": {},
   "outputs": [],
   "source": [
    "# Normalize data\n",
    "\n",
    "X = np.array([MinMaxScaler().fit_transform(e) for e in X])\n",
    "y = LabelBinarizer().fit_transform(y)"
   ]
  },
  {
   "cell_type": "code",
   "execution_count": 14,
   "id": "8f377a2a",
   "metadata": {},
   "outputs": [],
   "source": [
    "# Dividir en train y test \n",
    "\n",
    "X_train, X_test, y_train, y_test = train_test_split(X, y, test_size=0.2, random_state=42)\n"
   ]
  },
  {
   "cell_type": "code",
   "execution_count": 18,
   "id": "e998492e",
   "metadata": {},
   "outputs": [
    {
     "name": "stdout",
     "output_type": "stream",
     "text": [
      "(28709, 48, 48)\n",
      "(28709, 7)\n",
      "(7178, 48, 48)\n",
      "(7178, 7)\n"
     ]
    }
   ],
   "source": [
    "print(X_train.shape)\n",
    "print(y_train.shape)\n",
    "print(X_test.shape)\n",
    "print(y_test.shape)"
   ]
  },
  {
   "cell_type": "code",
   "execution_count": 21,
   "id": "3839473d",
   "metadata": {},
   "outputs": [
    {
     "name": "stderr",
     "output_type": "stream",
     "text": [
      "2022-12-26 17:06:58.556106: I tensorflow/core/platform/cpu_feature_guard.cc:193] This TensorFlow binary is optimized with oneAPI Deep Neural Network Library (oneDNN) to use the following CPU instructions in performance-critical operations:  AVX2 FMA\n",
      "To enable them in other operations, rebuild TensorFlow with the appropriate compiler flags.\n"
     ]
    }
   ],
   "source": [
    "# Definir Modelo\n",
    "IMAGE_HEIGHT = 48\n",
    "IMAGE_WIDTH = 48\n",
    "CHANNELS_LIST = 1\n",
    "NUM_LABELS = 7\n",
    "\n",
    "model = Sequential([\n",
    "    Conv2D(32,(3,3), input_shape=(IMAGE_WIDTH, IMAGE_HEIGHT, CHANNELS_LIST), activation='relu'),\n",
    "    Flatten(),\n",
    "    Dense(256, activation='relu'),\n",
    "    Dense(NUM_LABELS, activation='softmax')\n",
    "])\n",
    "\n",
    "\n",
    "# Compilar los datos\n",
    "model.compile(loss='categorical_crossentropy', optimizer='adam', metrics=['accuracy'])"
   ]
  },
  {
   "cell_type": "code",
   "execution_count": 22,
   "id": "82b25a21",
   "metadata": {},
   "outputs": [
    {
     "name": "stdout",
     "output_type": "stream",
     "text": [
      "Epoch 1/10\n",
      "898/898 [==============================] - 159s 175ms/step - loss: 1.7234 - accuracy: 0.3537\n",
      "Epoch 2/10\n",
      "898/898 [==============================] - 149s 166ms/step - loss: 1.3778 - accuracy: 0.4729\n",
      "Epoch 3/10\n",
      "898/898 [==============================] - 152s 170ms/step - loss: 1.1995 - accuracy: 0.5461\n",
      "Epoch 4/10\n",
      "898/898 [==============================] - 131s 146ms/step - loss: 1.0050 - accuracy: 0.6305\n",
      "Epoch 5/10\n",
      "898/898 [==============================] - 134s 150ms/step - loss: 0.7805 - accuracy: 0.7202\n",
      "Epoch 6/10\n",
      "898/898 [==============================] - 132s 147ms/step - loss: 0.5448 - accuracy: 0.8155\n",
      "Epoch 7/10\n",
      "898/898 [==============================] - 139s 155ms/step - loss: 0.3399 - accuracy: 0.8938\n",
      "Epoch 8/10\n",
      "898/898 [==============================] - 143s 159ms/step - loss: 0.1943 - accuracy: 0.9446\n",
      "Epoch 9/10\n",
      "898/898 [==============================] - 150s 167ms/step - loss: 0.1098 - accuracy: 0.9735\n",
      "Epoch 10/10\n",
      "898/898 [==============================] - 167s 186ms/step - loss: 0.0826 - accuracy: 0.9825\n"
     ]
    },
    {
     "data": {
      "text/plain": [
       "<keras.callbacks.History at 0x7fc6147cd810>"
      ]
     },
     "execution_count": 22,
     "metadata": {},
     "output_type": "execute_result"
    }
   ],
   "source": [
    "# Train\n",
    "model.fit(X_train, y_train, batch_size=32, epochs=10)"
   ]
  },
  {
   "cell_type": "code",
   "execution_count": 23,
   "id": "a41e513b",
   "metadata": {},
   "outputs": [
    {
     "name": "stdout",
     "output_type": "stream",
     "text": [
      "72/72 [==============================] - 4s 53ms/step - loss: 3.2950 - accuracy: 0.4451\n",
      "Test Score:  3.2950046062469482\n",
      "Test Acucuracy:  0.4451100528240204\n"
     ]
    }
   ],
   "source": [
    "score, acc = model.evaluate(X_test, y_test, batch_size = 100)\n",
    "print('Test Score: ', score)\n",
    "print('Test Acucuracy: ', acc)"
   ]
  },
  {
   "cell_type": "code",
   "execution_count": null,
   "id": "74d6a732",
   "metadata": {},
   "outputs": [],
   "source": [
    "\n",
    "model = Sequential([\n",
    "    tf.keras.applications.MobileNet(\n",
    "        input_shape=(48, 48, 1),\n",
    "        weights='imagenet',  # Utilizamos los pesos preintrenados en ImageNet\n",
    "        include_top=False  # No incluimos la capa densa final\n",
    "    ),\n",
    "    Flatten(),  # Luego, una capa de aplanamiento\n",
    "    Dense(10, activation='softmax')\n",
    "])\n",
    "\n",
    "\n",
    "\n",
    "model.compile(optimizer='adam',\n",
    "              loss='sparse_categorical_crossentropy',\n",
    "              metrics=['accuracy'])"
   ]
  }
 ],
 "metadata": {
  "kernelspec": {
   "display_name": "Python 3 (ipykernel)",
   "language": "python",
   "name": "python3"
  },
  "language_info": {
   "codemirror_mode": {
    "name": "ipython",
    "version": 3
   },
   "file_extension": ".py",
   "mimetype": "text/x-python",
   "name": "python",
   "nbconvert_exporter": "python",
   "pygments_lexer": "ipython3",
   "version": "3.10.6"
  }
 },
 "nbformat": 4,
 "nbformat_minor": 5
}
