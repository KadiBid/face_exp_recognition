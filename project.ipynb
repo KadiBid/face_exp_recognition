{
 "cells": [
  {
   "cell_type": "code",
   "execution_count": 28,
   "id": "bd394f20",
   "metadata": {},
   "outputs": [],
   "source": [
    "import cv2\n",
    "import os\n",
    "import pandas as pd\n",
    "from PIL import Image\n",
    "from IPython.display import display\n",
    "import matplotlib.pyplot as plt\n",
    "%matplotlib inline\n",
    "from sklearn.model_selection import train_test_split\n",
    "from sklearn import preprocessing\n",
    "from sklearn.preprocessing import OneHotEncoder, MinMaxScaler, LabelBinarizer, LabelEncoder\n",
    "import tensorflow as tf\n",
    "from tensorflow.keras import Sequential\n",
    "from tensorflow.keras.layers import Conv2D, BatchNormalization, MaxPooling2D, Dropout, Flatten, Dense\n",
    "import numpy as np"
   ]
  },
  {
   "cell_type": "code",
   "execution_count": 49,
   "id": "d81c23cb",
   "metadata": {},
   "outputs": [
    {
     "name": "stdout",
     "output_type": "stream",
     "text": [
      "happy\n",
      ".DS_Store\n",
      "sad\n",
      "fear\n",
      "surprise\n",
      "neutral\n",
      "angry\n",
      "disgust\n"
     ]
    }
   ],
   "source": [
    "# Crear dataframes de train y test através de las carpetas de fotos\n",
    "\n",
    "dataset = []\n",
    "\n",
    "for label in os.listdir('dataset'):\n",
    "    print(label)\n",
    "    if not os.path.isdir(f'dataset/{label}'):\n",
    "        continue\n",
    "    for image_filename in os.listdir(f'dataset/{label}'):\n",
    "        image = Image.open(f'dataset/{label}/{image_filename}').convert(\"RGB\")\n",
    "        pixels = np.array(image).astype(float)\n",
    "        dataset.append((pixels, label))\n",
    "            \n",
    "# Convertir la llista de dataset en dataframe\n",
    "\n",
    "df = pd.DataFrame(dataset, columns=['pixels', 'label'])\n",
    "\n",
    "# hacer otro archivo con esta funcion\n"
   ]
  },
  {
   "cell_type": "code",
   "execution_count": 50,
   "id": "c065bdd5",
   "metadata": {},
   "outputs": [],
   "source": [
    "df.to_pickle('images.pkl')"
   ]
  },
  {
   "cell_type": "code",
   "execution_count": 51,
   "id": "e005fb4b",
   "metadata": {},
   "outputs": [],
   "source": [
    "df = pd.read_pickle('images.pkl')"
   ]
  },
  {
   "cell_type": "code",
   "execution_count": 34,
   "id": "68055e3b",
   "metadata": {},
   "outputs": [
    {
     "data": {
      "text/html": [
       "<div>\n",
       "<style scoped>\n",
       "    .dataframe tbody tr th:only-of-type {\n",
       "        vertical-align: middle;\n",
       "    }\n",
       "\n",
       "    .dataframe tbody tr th {\n",
       "        vertical-align: top;\n",
       "    }\n",
       "\n",
       "    .dataframe thead th {\n",
       "        text-align: right;\n",
       "    }\n",
       "</style>\n",
       "<table border=\"1\" class=\"dataframe\">\n",
       "  <thead>\n",
       "    <tr style=\"text-align: right;\">\n",
       "      <th></th>\n",
       "      <th>pixels</th>\n",
       "      <th>label</th>\n",
       "    </tr>\n",
       "  </thead>\n",
       "  <tbody>\n",
       "    <tr>\n",
       "      <th>0</th>\n",
       "      <td>[[[108.0, 108.0, 108.0], [83.0, 83.0, 83.0], [...</td>\n",
       "      <td>happy</td>\n",
       "    </tr>\n",
       "    <tr>\n",
       "      <th>1</th>\n",
       "      <td>[[[137.0, 137.0, 137.0], [142.0, 142.0, 142.0]...</td>\n",
       "      <td>happy</td>\n",
       "    </tr>\n",
       "    <tr>\n",
       "      <th>2</th>\n",
       "      <td>[[[111.0, 111.0, 111.0], [148.0, 148.0, 148.0]...</td>\n",
       "      <td>happy</td>\n",
       "    </tr>\n",
       "    <tr>\n",
       "      <th>3</th>\n",
       "      <td>[[[151.0, 151.0, 151.0], [156.0, 156.0, 156.0]...</td>\n",
       "      <td>happy</td>\n",
       "    </tr>\n",
       "    <tr>\n",
       "      <th>4</th>\n",
       "      <td>[[[5.0, 5.0, 5.0], [4.0, 4.0, 4.0], [5.0, 5.0,...</td>\n",
       "      <td>happy</td>\n",
       "    </tr>\n",
       "  </tbody>\n",
       "</table>\n",
       "</div>"
      ],
      "text/plain": [
       "                                              pixels  label\n",
       "0  [[[108.0, 108.0, 108.0], [83.0, 83.0, 83.0], [...  happy\n",
       "1  [[[137.0, 137.0, 137.0], [142.0, 142.0, 142.0]...  happy\n",
       "2  [[[111.0, 111.0, 111.0], [148.0, 148.0, 148.0]...  happy\n",
       "3  [[[151.0, 151.0, 151.0], [156.0, 156.0, 156.0]...  happy\n",
       "4  [[[5.0, 5.0, 5.0], [4.0, 4.0, 4.0], [5.0, 5.0,...  happy"
      ]
     },
     "execution_count": 34,
     "metadata": {},
     "output_type": "execute_result"
    }
   ],
   "source": [
    "df.head()"
   ]
  },
  {
   "cell_type": "code",
   "execution_count": 52,
   "id": "23be07c0",
   "metadata": {},
   "outputs": [
    {
     "data": {
      "text/plain": [
       "array(['happy', 'sad', 'fear', 'surprise', 'neutral', 'angry', 'disgust'],\n",
       "      dtype=object)"
      ]
     },
     "execution_count": 52,
     "metadata": {},
     "output_type": "execute_result"
    }
   ],
   "source": [
    "df['label'].unique()"
   ]
  },
  {
   "cell_type": "code",
   "execution_count": 53,
   "id": "2079735d",
   "metadata": {},
   "outputs": [],
   "source": [
    "# Asigne 'X' and 'y' and Normalize data\n",
    "\n",
    "X = np.array((df['pixels']/255).values.tolist())\n",
    "y = np.array(LabelBinarizer().fit_transform(df['label']))\n"
   ]
  },
  {
   "cell_type": "code",
   "execution_count": 54,
   "id": "8f377a2a",
   "metadata": {},
   "outputs": [],
   "source": [
    "# Dividir en train y test \n",
    "\n",
    "X_train, X_test, y_train, y_test = train_test_split(X, y, test_size=0.2, random_state=42)\n"
   ]
  },
  {
   "cell_type": "code",
   "execution_count": 43,
   "id": "e998492e",
   "metadata": {},
   "outputs": [
    {
     "name": "stdout",
     "output_type": "stream",
     "text": [
      "(28709, 128, 128, 3)\n",
      "(28709, 7)\n",
      "(7178, 128, 128, 3)\n",
      "(7178, 7)\n"
     ]
    }
   ],
   "source": [
    "print(X_train.shape)\n",
    "print(y_train.shape)\n",
    "print(X_test.shape)\n",
    "print(y_test.shape)"
   ]
  },
  {
   "cell_type": "code",
   "execution_count": 21,
   "id": "3839473d",
   "metadata": {},
   "outputs": [
    {
     "name": "stderr",
     "output_type": "stream",
     "text": [
      "2022-12-26 17:06:58.556106: I tensorflow/core/platform/cpu_feature_guard.cc:193] This TensorFlow binary is optimized with oneAPI Deep Neural Network Library (oneDNN) to use the following CPU instructions in performance-critical operations:  AVX2 FMA\n",
      "To enable them in other operations, rebuild TensorFlow with the appropriate compiler flags.\n"
     ]
    }
   ],
   "source": [
    "# Definir Modelo\n",
    "IMAGE_HEIGHT = 48\n",
    "IMAGE_WIDTH = 48\n",
    "CHANNELS_LIST = 1\n",
    "NUM_LABELS = 7\n",
    "\n",
    "model = Sequential([\n",
    "    Conv2D(32,(3,3), input_shape=(IMAGE_WIDTH, IMAGE_HEIGHT, CHANNELS_LIST), activation='relu'),\n",
    "    Flatten(),\n",
    "    Dense(256, activation='relu'),\n",
    "    Dense(NUM_LABELS, activation='softmax')\n",
    "])\n",
    "\n",
    "\n",
    "# Compilar los datos\n",
    "model.compile(loss='categorical_crossentropy', optimizer='adam', metrics=['accuracy'])"
   ]
  },
  {
   "cell_type": "code",
   "execution_count": 22,
   "id": "82b25a21",
   "metadata": {},
   "outputs": [
    {
     "name": "stdout",
     "output_type": "stream",
     "text": [
      "Epoch 1/10\n",
      "898/898 [==============================] - 159s 175ms/step - loss: 1.7234 - accuracy: 0.3537\n",
      "Epoch 2/10\n",
      "898/898 [==============================] - 149s 166ms/step - loss: 1.3778 - accuracy: 0.4729\n",
      "Epoch 3/10\n",
      "898/898 [==============================] - 152s 170ms/step - loss: 1.1995 - accuracy: 0.5461\n",
      "Epoch 4/10\n",
      "898/898 [==============================] - 131s 146ms/step - loss: 1.0050 - accuracy: 0.6305\n",
      "Epoch 5/10\n",
      "898/898 [==============================] - 134s 150ms/step - loss: 0.7805 - accuracy: 0.7202\n",
      "Epoch 6/10\n",
      "898/898 [==============================] - 132s 147ms/step - loss: 0.5448 - accuracy: 0.8155\n",
      "Epoch 7/10\n",
      "898/898 [==============================] - 139s 155ms/step - loss: 0.3399 - accuracy: 0.8938\n",
      "Epoch 8/10\n",
      "898/898 [==============================] - 143s 159ms/step - loss: 0.1943 - accuracy: 0.9446\n",
      "Epoch 9/10\n",
      "898/898 [==============================] - 150s 167ms/step - loss: 0.1098 - accuracy: 0.9735\n",
      "Epoch 10/10\n",
      "898/898 [==============================] - 167s 186ms/step - loss: 0.0826 - accuracy: 0.9825\n"
     ]
    },
    {
     "data": {
      "text/plain": [
       "<keras.callbacks.History at 0x7fc6147cd810>"
      ]
     },
     "execution_count": 22,
     "metadata": {},
     "output_type": "execute_result"
    }
   ],
   "source": [
    "# Train\n",
    "model.fit(X_train, y_train, batch_size=32, epochs=10)"
   ]
  },
  {
   "cell_type": "code",
   "execution_count": 23,
   "id": "8271b9aa",
   "metadata": {},
   "outputs": [
    {
     "name": "stdout",
     "output_type": "stream",
     "text": [
      "72/72 [==============================] - 4s 53ms/step - loss: 3.2950 - accuracy: 0.4451\n",
      "Test Score:  3.2950046062469482\n",
      "Test Acucuracy:  0.4451100528240204\n"
     ]
    }
   ],
   "source": [
    "score, acc = model.evaluate(X_test, y_test, batch_size = 100)\n",
    "print('Test Score: ', score)\n",
    "print('Test Acucuracy: ', acc)"
   ]
  },
  {
   "cell_type": "code",
   "execution_count": null,
   "id": "74d6a732",
   "metadata": {},
   "outputs": [],
   "source": []
  },
  {
   "cell_type": "code",
   "execution_count": null,
   "id": "c6c81259",
   "metadata": {},
   "outputs": [],
   "source": []
  },
  {
   "cell_type": "code",
   "execution_count": null,
   "id": "9a211d7e",
   "metadata": {},
   "outputs": [],
   "source": []
  },
  {
   "cell_type": "code",
   "execution_count": null,
   "id": "d5ad8838",
   "metadata": {},
   "outputs": [],
   "source": []
  },
  {
   "cell_type": "code",
   "execution_count": 45,
   "id": "c78f4913",
   "metadata": {},
   "outputs": [
    {
     "name": "stdout",
     "output_type": "stream",
     "text": [
      "WARNING:tensorflow:`input_shape` is undefined or non-square, or `rows` is not in [96, 128, 160, 192, 224]. Weights for input shape (224, 224) will be loaded as the default.\n",
      "Downloading data from https://storage.googleapis.com/tensorflow/keras-applications/mobilenet_v2/mobilenet_v2_weights_tf_dim_ordering_tf_kernels_1.0_224_no_top.h5\n",
      "9406464/9406464 [==============================] - 1s 0us/step\n"
     ]
    }
   ],
   "source": [
    "\n",
    "#modelo MobileNet\n",
    "base_model = tf.keras.applications.MobileNetV2(\n",
    "        input_shape=(48, 48, 3),\n",
    "        weights='imagenet',  # Utilizamos los pesos preintrenados en ImageNet\n",
    "        include_top=False  # No incluimos la capa densa final\n",
    "    )\n",
    "base_model.trainable = False\n",
    "\n",
    "output = base_model.output\n",
    "output = tf.keras.layers.BatchNormalization()(output)\n",
    "output = tf.keras.layers.Dropout(0.5)(output)\n",
    "output = tf.keras.layers.Dense(1, activation='sigmoid')(output)\n",
    "\n",
    "model = tf.keras.models.Model(base_model.input, output)\n",
    "\n",
    "\n",
    "model.compile(optimizer='adam',\n",
    "              loss=tf.keras.losses.CategoricalCrossentropy(from_logits=True),\n",
    "              metrics=['accuracy'])"
   ]
  },
  {
   "cell_type": "code",
   "execution_count": 46,
   "id": "b05cfc63",
   "metadata": {},
   "outputs": [],
   "source": [
    "from tensorflow.keras.callbacks import TensorBoard\n",
    "tensorboarddata = TensorBoard(log_dir='logs/train_borad')"
   ]
  },
  {
   "cell_type": "code",
   "execution_count": 47,
   "id": "7cdf99c3",
   "metadata": {},
   "outputs": [
    {
     "name": "stdout",
     "output_type": "stream",
     "text": [
      "The tensorboard extension is already loaded. To reload it, use:\n",
      "  %reload_ext tensorboard\n"
     ]
    },
    {
     "data": {
      "text/plain": [
       "Reusing TensorBoard on port 6006 (pid 5010), started 0:01:38 ago. (Use '!kill 5010' to kill it.)"
      ]
     },
     "metadata": {},
     "output_type": "display_data"
    },
    {
     "data": {
      "text/html": [
       "\n",
       "      <iframe id=\"tensorboard-frame-78d19456ad15ceeb\" width=\"100%\" height=\"800\" frameborder=\"0\">\n",
       "      </iframe>\n",
       "      <script>\n",
       "        (function() {\n",
       "          const frame = document.getElementById(\"tensorboard-frame-78d19456ad15ceeb\");\n",
       "          const url = new URL(\"/\", window.location);\n",
       "          const port = 6006;\n",
       "          if (port) {\n",
       "            url.port = port;\n",
       "          }\n",
       "          frame.src = url;\n",
       "        })();\n",
       "      </script>\n",
       "    "
      ],
      "text/plain": [
       "<IPython.core.display.HTML object>"
      ]
     },
     "metadata": {},
     "output_type": "display_data"
    }
   ],
   "source": [
    "%load_ext tensorboard\n",
    "%tensorboard --logdir logs"
   ]
  },
  {
   "cell_type": "code",
   "execution_count": 48,
   "id": "9a7d33ae",
   "metadata": {},
   "outputs": [
    {
     "name": "stdout",
     "output_type": "stream",
     "text": [
      "Epoch 1/50\n"
     ]
    },
    {
     "ename": "ValueError",
     "evalue": "in user code:\n\n    File \"/usr/local/Caskroom/miniconda/base/envs/core/lib/python3.10/site-packages/keras/engine/training.py\", line 1249, in train_function  *\n        return step_function(self, iterator)\n    File \"/usr/local/Caskroom/miniconda/base/envs/core/lib/python3.10/site-packages/keras/engine/training.py\", line 1233, in step_function  **\n        outputs = model.distribute_strategy.run(run_step, args=(data,))\n    File \"/usr/local/Caskroom/miniconda/base/envs/core/lib/python3.10/site-packages/keras/engine/training.py\", line 1222, in run_step  **\n        outputs = model.train_step(data)\n    File \"/usr/local/Caskroom/miniconda/base/envs/core/lib/python3.10/site-packages/keras/engine/training.py\", line 1023, in train_step\n        y_pred = self(x, training=True)\n    File \"/usr/local/Caskroom/miniconda/base/envs/core/lib/python3.10/site-packages/keras/utils/traceback_utils.py\", line 70, in error_handler\n        raise e.with_traceback(filtered_tb) from None\n    File \"/usr/local/Caskroom/miniconda/base/envs/core/lib/python3.10/site-packages/keras/engine/input_spec.py\", line 295, in assert_input_compatibility\n        raise ValueError(\n\n    ValueError: Input 0 of layer \"model\" is incompatible with the layer: expected shape=(None, 48, 48, 3), found shape=(None, 128, 128, 3)\n",
     "output_type": "error",
     "traceback": [
      "\u001b[0;31m---------------------------------------------------------------------------\u001b[0m",
      "\u001b[0;31mValueError\u001b[0m                                Traceback (most recent call last)",
      "Input \u001b[0;32mIn [48]\u001b[0m, in \u001b[0;36m<cell line: 1>\u001b[0;34m()\u001b[0m\n\u001b[0;32m----> 1\u001b[0m \u001b[43mmodel\u001b[49m\u001b[38;5;241;43m.\u001b[39;49m\u001b[43mfit\u001b[49m\u001b[43m(\u001b[49m\u001b[43mX_train\u001b[49m\u001b[43m,\u001b[49m\u001b[43m \u001b[49m\u001b[43my_train\u001b[49m\u001b[43m,\u001b[49m\u001b[43m \u001b[49m\n\u001b[1;32m      2\u001b[0m \u001b[43m          \u001b[49m\u001b[43mbatch_size\u001b[49m\u001b[38;5;241;43m=\u001b[39;49m\u001b[38;5;241;43m32\u001b[39;49m\u001b[43m,\u001b[49m\u001b[43m \u001b[49m\n\u001b[1;32m      3\u001b[0m \u001b[43m          \u001b[49m\u001b[43mepochs\u001b[49m\u001b[38;5;241;43m=\u001b[39;49m\u001b[38;5;241;43m50\u001b[39;49m\u001b[43m,\u001b[49m\n\u001b[1;32m      4\u001b[0m \u001b[43m          \u001b[49m\u001b[43mcallbacks\u001b[49m\u001b[38;5;241;43m=\u001b[39;49m\u001b[43m[\u001b[49m\u001b[43mtensorboarddata\u001b[49m\u001b[43m]\u001b[49m\u001b[43m)\u001b[49m\n",
      "File \u001b[0;32m/usr/local/Caskroom/miniconda/base/envs/core/lib/python3.10/site-packages/keras/utils/traceback_utils.py:70\u001b[0m, in \u001b[0;36mfilter_traceback.<locals>.error_handler\u001b[0;34m(*args, **kwargs)\u001b[0m\n\u001b[1;32m     67\u001b[0m     filtered_tb \u001b[38;5;241m=\u001b[39m _process_traceback_frames(e\u001b[38;5;241m.\u001b[39m__traceback__)\n\u001b[1;32m     68\u001b[0m     \u001b[38;5;66;03m# To get the full stack trace, call:\u001b[39;00m\n\u001b[1;32m     69\u001b[0m     \u001b[38;5;66;03m# `tf.debugging.disable_traceback_filtering()`\u001b[39;00m\n\u001b[0;32m---> 70\u001b[0m     \u001b[38;5;28;01mraise\u001b[39;00m e\u001b[38;5;241m.\u001b[39mwith_traceback(filtered_tb) \u001b[38;5;28;01mfrom\u001b[39;00m \u001b[38;5;28mNone\u001b[39m\n\u001b[1;32m     71\u001b[0m \u001b[38;5;28;01mfinally\u001b[39;00m:\n\u001b[1;32m     72\u001b[0m     \u001b[38;5;28;01mdel\u001b[39;00m filtered_tb\n",
      "File \u001b[0;32m/var/folders/fq/_nmsgsrs7_9d40025zmb5lvw0000gn/T/__autograph_generated_file4yciru8a.py:15\u001b[0m, in \u001b[0;36mouter_factory.<locals>.inner_factory.<locals>.tf__train_function\u001b[0;34m(iterator)\u001b[0m\n\u001b[1;32m     13\u001b[0m \u001b[38;5;28;01mtry\u001b[39;00m:\n\u001b[1;32m     14\u001b[0m     do_return \u001b[38;5;241m=\u001b[39m \u001b[38;5;28;01mTrue\u001b[39;00m\n\u001b[0;32m---> 15\u001b[0m     retval_ \u001b[38;5;241m=\u001b[39m ag__\u001b[38;5;241m.\u001b[39mconverted_call(ag__\u001b[38;5;241m.\u001b[39mld(step_function), (ag__\u001b[38;5;241m.\u001b[39mld(\u001b[38;5;28mself\u001b[39m), ag__\u001b[38;5;241m.\u001b[39mld(iterator)), \u001b[38;5;28;01mNone\u001b[39;00m, fscope)\n\u001b[1;32m     16\u001b[0m \u001b[38;5;28;01mexcept\u001b[39;00m:\n\u001b[1;32m     17\u001b[0m     do_return \u001b[38;5;241m=\u001b[39m \u001b[38;5;28;01mFalse\u001b[39;00m\n",
      "\u001b[0;31mValueError\u001b[0m: in user code:\n\n    File \"/usr/local/Caskroom/miniconda/base/envs/core/lib/python3.10/site-packages/keras/engine/training.py\", line 1249, in train_function  *\n        return step_function(self, iterator)\n    File \"/usr/local/Caskroom/miniconda/base/envs/core/lib/python3.10/site-packages/keras/engine/training.py\", line 1233, in step_function  **\n        outputs = model.distribute_strategy.run(run_step, args=(data,))\n    File \"/usr/local/Caskroom/miniconda/base/envs/core/lib/python3.10/site-packages/keras/engine/training.py\", line 1222, in run_step  **\n        outputs = model.train_step(data)\n    File \"/usr/local/Caskroom/miniconda/base/envs/core/lib/python3.10/site-packages/keras/engine/training.py\", line 1023, in train_step\n        y_pred = self(x, training=True)\n    File \"/usr/local/Caskroom/miniconda/base/envs/core/lib/python3.10/site-packages/keras/utils/traceback_utils.py\", line 70, in error_handler\n        raise e.with_traceback(filtered_tb) from None\n    File \"/usr/local/Caskroom/miniconda/base/envs/core/lib/python3.10/site-packages/keras/engine/input_spec.py\", line 295, in assert_input_compatibility\n        raise ValueError(\n\n    ValueError: Input 0 of layer \"model\" is incompatible with the layer: expected shape=(None, 48, 48, 3), found shape=(None, 128, 128, 3)\n"
     ]
    }
   ],
   "source": [
    "model.fit(X_train, y_train, \n",
    "          batch_size=32, \n",
    "          epochs=50,\n",
    "          callbacks=[tensorboarddata])"
   ]
  },
  {
   "cell_type": "code",
   "execution_count": null,
   "id": "797e25d8",
   "metadata": {},
   "outputs": [],
   "source": []
  }
 ],
 "metadata": {
  "kernelspec": {
   "display_name": "Python 3 (ipykernel)",
   "language": "python",
   "name": "python3"
  },
  "language_info": {
   "codemirror_mode": {
    "name": "ipython",
    "version": 3
   },
   "file_extension": ".py",
   "mimetype": "text/x-python",
   "name": "python",
   "nbconvert_exporter": "python",
   "pygments_lexer": "ipython3",
   "version": "3.10.6"
  }
 },
 "nbformat": 4,
 "nbformat_minor": 5
}
